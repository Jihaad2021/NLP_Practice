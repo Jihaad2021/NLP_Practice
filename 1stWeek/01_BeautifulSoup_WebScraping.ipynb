{
  "nbformat": 4,
  "nbformat_minor": 0,
  "metadata": {
    "colab": {
      "provenance": [],
      "authorship_tag": "ABX9TyMA41CDzHFT6OiSKt0BEKXu",
      "include_colab_link": true
    },
    "kernelspec": {
      "name": "python3",
      "display_name": "Python 3"
    },
    "language_info": {
      "name": "python"
    }
  },
  "cells": [
    {
      "cell_type": "markdown",
      "metadata": {
        "id": "view-in-github",
        "colab_type": "text"
      },
      "source": [
        "<a href=\"https://colab.research.google.com/github/Jihaad2021/NLP_Practice/blob/main/1stWeek/01_BeautifulSoup_WebScraping.ipynb\" target=\"_parent\"><img src=\"https://colab.research.google.com/assets/colab-badge.svg\" alt=\"Open In Colab\"/></a>"
      ]
    },
    {
      "cell_type": "code",
      "source": [
        "from pprint import pprint\n",
        "from bs4 import BeautifulSoup\n",
        "from urllib.request import urlopen "
      ],
      "metadata": {
        "id": "L7Q04YEo8CgC"
      },
      "execution_count": 4,
      "outputs": []
    },
    {
      "cell_type": "code",
      "source": [
        "myurl = \"https://stackoverflow.com/questions/415511/how-to-get-the-current-time-in-python\" \n",
        "html = urlopen(myurl).read()\n",
        "soupified = BeautifulSoup(html, 'html.parser')"
      ],
      "metadata": {
        "id": "-S6Nc1SQCr93"
      },
      "execution_count": 5,
      "outputs": []
    },
    {
      "cell_type": "code",
      "source": [
        "pprint(soupified.prettify()[:2000])"
      ],
      "metadata": {
        "colab": {
          "base_uri": "https://localhost:8080/"
        },
        "id": "umQCdzV9DOg9",
        "outputId": "7aafb4c0-c955-4b9d-b502-42d0985756e2"
      },
      "execution_count": 6,
      "outputs": [
        {
          "output_type": "stream",
          "name": "stdout",
          "text": [
            "('<!DOCTYPE html>\\n'\n",
            " '<html class=\"html__responsive\" itemscope=\"\" '\n",
            " 'itemtype=\"https://schema.org/QAPage\" lang=\"en\">\\n'\n",
            " ' <head>\\n'\n",
            " '  <title>\\n'\n",
            " '   python - How do I get the current time? - Stack Overflow\\n'\n",
            " '  </title>\\n'\n",
            " '  <link '\n",
            " 'href=\"https://cdn.sstatic.net/Sites/stackoverflow/Img/favicon.ico?v=ec617d715196\" '\n",
            " 'rel=\"shortcut icon\"/>\\n'\n",
            " '  <link '\n",
            " 'href=\"https://cdn.sstatic.net/Sites/stackoverflow/Img/apple-touch-icon.png?v=c78bd457575a\" '\n",
            " 'rel=\"apple-touch-icon\"/>\\n'\n",
            " '  <link '\n",
            " 'href=\"https://cdn.sstatic.net/Sites/stackoverflow/Img/apple-touch-icon.png?v=c78bd457575a\" '\n",
            " 'rel=\"image_src\"/>\\n'\n",
            " '  <link href=\"/opensearch.xml\" rel=\"search\" title=\"Stack Overflow\" '\n",
            " 'type=\"application/opensearchdescription+xml\"/>\\n'\n",
            " '  <link '\n",
            " 'href=\"https://stackoverflow.com/questions/415511/how-do-i-get-the-current-time\" '\n",
            " 'rel=\"canonical\">\\n'\n",
            " '   <meta content=\"width=device-width, height=device-height, '\n",
            " 'initial-scale=1.0, minimum-scale=1.0\" name=\"viewport\"/>\\n'\n",
            " '   <meta content=\"website\" property=\"og:type\">\\n'\n",
            " '    <meta '\n",
            " 'content=\"https://stackoverflow.com/questions/415511/how-do-i-get-the-current-time\" '\n",
            " 'property=\"og:url\"/>\\n'\n",
            " '    <meta content=\"Stack Overflow\" property=\"og:site_name\"/>\\n'\n",
            " '    <meta '\n",
            " 'content=\"https://cdn.sstatic.net/Sites/stackoverflow/Img/apple-touch-icon@2.png?v=73d79a89bded\" '\n",
            " 'itemprop=\"image primaryImageOfPage\" property=\"og:image\"/>\\n'\n",
            " '    <meta content=\"summary\" name=\"twitter:card\"/>\\n'\n",
            " '    <meta content=\"stackoverflow.com\" name=\"twitter:domain\"/>\\n'\n",
            " '    <meta content=\"How do I get the current time?\" itemprop=\"name\" '\n",
            " 'name=\"twitter:title\" property=\"og:title\"/>\\n'\n",
            " '    <meta content=\"How do I get the current time?\" itemprop=\"description\" '\n",
            " 'name=\"twitter:description\" property=\"og:description\"/>\\n'\n",
            " '    <script id=\"webpack-public-path\" type=\"text/uri-list\">\\n'\n",
            " '     https://cdn.sstatic.net/\\n'\n",
            " '    </script>\\n'\n",
            " '    <script '\n",
            " 'src=\"https://ajax.googleapis.com/ajax/libs/jquery/1.12.4/jquery.min.js\">\\n'\n",
            " '    </script>\\n'\n",
            " '    <script defer=\"\" '\n",
            " 'src=\"https://cdn.sstatic.net/Js/third-party/npm/@stackoverflow/stacks/dist/js/stacks.min.js?v=b95611219aa3\">\\n'\n",
            " '    </script>\\n'\n",
            " '    <script src=\"https://cdn.ssta')\n"
          ]
        }
      ]
    },
    {
      "cell_type": "code",
      "source": [
        "soupified.title"
      ],
      "metadata": {
        "colab": {
          "base_uri": "https://localhost:8080/"
        },
        "id": "-kxKZlh8DVOT",
        "outputId": "92373c53-8e6f-46e1-9c4c-a161816429f6"
      },
      "execution_count": 7,
      "outputs": [
        {
          "output_type": "execute_result",
          "data": {
            "text/plain": [
              "<title>python - How do I get the current time? - Stack Overflow</title>"
            ]
          },
          "metadata": {},
          "execution_count": 7
        }
      ]
    },
    {
      "cell_type": "code",
      "source": [
        "question = soupified.find(\"div\", {\"class\":\"question\"})\n",
        "questiontext = question.find(\"div\", {\"class\":\"s-prose js-post-body\"})\n",
        "print(\"Question: \\n\", questiontext.get_text().strip()) \n",
        "\n",
        "answer = soupified.find(\"div\", {\"class\":\"answer\"})\n",
        "answertext = answer.find(\"div\", {\"class\":\"s-prose js-post-body\"})\n",
        "print(\"Best answer: \\n\", answertext.get_text().strip()) \n"
      ],
      "metadata": {
        "colab": {
          "base_uri": "https://localhost:8080/"
        },
        "id": "gaJln05bDgzL",
        "outputId": "2b997176-2c45-4e74-c72b-251317f6318b"
      },
      "execution_count": 8,
      "outputs": [
        {
          "output_type": "stream",
          "name": "stdout",
          "text": [
            "Question: \n",
            " How do I get the current time?\n",
            "Best answer: \n",
            " Use datetime:\n",
            ">>> import datetime\n",
            ">>> now = datetime.datetime.now()\n",
            ">>> now\n",
            "datetime.datetime(2009, 1, 6, 15, 8, 24, 78915)\n",
            ">>> print(now)\n",
            "2009-01-06 15:08:24.789150\n",
            "\n",
            "For just the clock time without the date:\n",
            ">>> now.time()\n",
            "datetime.time(15, 8, 24, 78915)\n",
            ">>> print(now.time())\n",
            "15:08:24.789150\n",
            "\n",
            "\n",
            "To save typing, you can import the datetime object from the datetime module:\n",
            ">>> from datetime import datetime\n",
            "\n",
            "Then remove the prefix datetime. from all of the above.\n"
          ]
        }
      ]
    },
    {
      "cell_type": "code",
      "source": [],
      "metadata": {
        "id": "yy4nTRXqGJyO"
      },
      "execution_count": 8,
      "outputs": []
    }
  ]
}